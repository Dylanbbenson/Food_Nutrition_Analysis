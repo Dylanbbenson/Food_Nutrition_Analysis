{
 "cells": [
  {
   "cell_type": "code",
   "execution_count": null,
   "id": "43e967fe-87b2-4d79-8f50-4d4a640810b9",
   "metadata": {
    "tags": []
   },
   "outputs": [],
   "source": [
    "import pandas as pd\n",
    "import matplotlib.pyplot as plt\n",
    "import numpy as np\n",
    "import seaborn as sns\n",
    "#ML\n",
    "from prophet import Prophet\n",
    "sns.set(font_scale=1.5)"
   ]
  },
  {
   "cell_type": "markdown",
   "id": "73a30137-af24-414c-aa3a-1ff00e8c0c82",
   "metadata": {},
   "source": [
    "## Read in data"
   ]
  },
  {
   "cell_type": "code",
   "execution_count": null,
   "id": "8059f6fa-1b37-432f-a1f4-38b5e39510d7",
   "metadata": {
    "tags": []
   },
   "outputs": [],
   "source": [
    "df = pd.read_csv('./data/ABBREV.csv')\n",
    "df['Total_Fat_(g)'] = df['FA_Mono_(g)'] + df['FA_Sat_(g)']\n",
    "df = df[[\"NDB_No\", \"Shrt_Desc\", \"Energ_Kcal\", \"Protein_(g)\", \"Carbohydrt_(g)\", \"Fiber_TD_(g)\", \"Sugar_Tot_(g)\", \"Calcium_(mg)\", \"Sodium_(mg)\", \"'Total_Fat_(g)\"]].copy()\n",
    "df = df.rename(columns={'Energ_Kcal':'Calories',  'Shrt_Desc':'Name', 'NDB_No':'id', 'Carbohydrt_(g)':'Carbs_(g)', 'Protein_(g)':'Protein_(g)', 'Fiber_TD_(g)':'Fiber_(g)', 'Sugar_Tot_(g)':'Sugar_(g)', 'Calcium_(mg)':'Calcium_(mg)', 'Sodium_(mg)':'Sodium_(mg)'})\n",
    "df.head()"
   ]
  },
  {
   "cell_type": "code",
   "execution_count": null,
   "id": "2491e17d-eb28-4aab-8b58-cc73ae77fdd0",
   "metadata": {
    "tags": []
   },
   "outputs": [],
   "source": [
    "#Create heatmap to check correlation in data\n",
    "correlation = df[[\"Calories\", 'Carbs_(g)', 'Protein_(g)', \"Sugar_(g)\", \"Calcium_(mg)\", \"Mono_Fat_(g)\", \"Saturated_Fat_(g)\", \"Sodium_(mg)\"]].copy()\n",
    "sns.set_theme(style=\"white\")\n",
    "corr = correlation.corr(method = 'pearson',  # The method of correlation\n",
    "                  min_periods = 1 )\n",
    "corr.style.background_gradient(cmap='coolwarm')"
   ]
  },
  {
   "cell_type": "markdown",
   "id": "044238e6-79e8-4560-b1e3-1e6c5200f7d9",
   "metadata": {
    "tags": []
   },
   "source": [
    "#### Notes: It appears that there isn't any strong correlations between any of the fields. The highest is between calories and mono fat, then sugar and carbs."
   ]
  },
  {
   "cell_type": "markdown",
   "id": "3de2fb23-aa5a-4cfc-a57f-234c8be92d69",
   "metadata": {},
   "source": [
    "## Cheese"
   ]
  },
  {
   "cell_type": "code",
   "execution_count": null,
   "id": "df268222-9c6a-498d-bb03-1b7b1a454383",
   "metadata": {
    "tags": []
   },
   "outputs": [],
   "source": [
    "cheese = df[df[\"Name\"].str.startswith(\"CHEESE,\")]\n",
    "cheese = cheese.sort_values(by='Calories', ascending=False)\n",
    "#cheese.to_csv('./data/cheese.csv')"
   ]
  },
  {
   "cell_type": "code",
   "execution_count": null,
   "id": "d5d6581c-1b3b-4914-b544-79c8c24919e8",
   "metadata": {},
   "outputs": [],
   "source": [
    "sns.set_theme(style=\"white\")\n",
    "corr = cheese.corr(method = 'pearson',  # The method of correlation\n",
    "                  min_periods = 1)\n",
    "corr.style.background_gradient(cmap='coolwarm')"
   ]
  },
  {
   "cell_type": "code",
   "execution_count": null,
   "id": "47937f92-d364-4ce5-83bb-63ca36cd1e4d",
   "metadata": {
    "tags": []
   },
   "outputs": [],
   "source": [
    "#Scatter plot comparing Calories with Saturated Fat in Cheese\n",
    "sns.set(rc={\"figure.figsize\":(20, 5)})\n",
    "scatter = sns.scatterplot(data=cheese, x='Calories', y='Saturated_Fat_(g)', legend='auto', s=50)\n",
    "scatter.set_title(\"Correlation between Calories and Saturated Fat in Cheese\", fontdict={'size': 20, 'weight': 'bold'})\n",
    "scatter.set_xlabel('Calories', fontdict={'size': 15})\n",
    "scatter.set_ylabel('Saturated Fat (g)', fontdict={'size': 15})\n",
    "plt.ylim(-2, 25)\n",
    "plt.xlim(0, 500)\n",
    "plt.show()"
   ]
  },
  {
   "cell_type": "markdown",
   "id": "1a65bb1e-83a6-41b2-99d7-c681289297fc",
   "metadata": {},
   "source": [
    "### Notes: Strong correlation between fat and calorie content in cheese"
   ]
  },
  {
   "cell_type": "markdown",
   "id": "db22234e-3c3e-4da0-b71e-85be3b97ee58",
   "metadata": {},
   "source": [
    "## Milk"
   ]
  },
  {
   "cell_type": "code",
   "execution_count": null,
   "id": "a2dd68f5-387d-4295-83cc-a534e60b9cfa",
   "metadata": {
    "tags": []
   },
   "outputs": [],
   "source": [
    "milk = df[df[\"Name\"].str.startswith(\"MILK,\")]\n",
    "milk = milk.sort_values(by='Calories', ascending=False)\n",
    "#milk.to_csv('./data/milks.csv')\n",
    "milk.head()"
   ]
  },
  {
   "cell_type": "code",
   "execution_count": null,
   "id": "5f1e6fa8-963e-47d6-a8fd-a55d55bc25fa",
   "metadata": {
    "tags": []
   },
   "outputs": [],
   "source": [
    "sns.set_theme(style=\"white\")\n",
    "corr = milk.corr(method = 'pearson', min_periods = 1)\n",
    "corr.style.background_gradient(cmap='coolwarm')"
   ]
  },
  {
   "cell_type": "markdown",
   "id": "e9a43f18-75e4-4200-8f45-47fe5ce61d36",
   "metadata": {},
   "source": [
    "#### Notes: High correlation among many fields, especially sugar, protein, carbs, and calcium"
   ]
  },
  {
   "cell_type": "markdown",
   "id": "be2a0b05-4b99-4bfa-b3de-4a9383ac7966",
   "metadata": {},
   "source": [
    "### Are \"lowfat milks\" really low in fat?"
   ]
  },
  {
   "cell_type": "code",
   "execution_count": null,
   "id": "131e86b2-9d70-456c-a139-cf261db6d6ba",
   "metadata": {
    "tags": []
   },
   "outputs": [],
   "source": [
    "#milk = milk.sort_values(by='Saturated_Fat_(g)', ascending=False)\n",
    "fat = ['NONFAT', 'FAT FREE', 'LOWFAT', 'LOW FAT']\n",
    "pattern = '|'.join(fat)\n",
    "\n",
    "lowfat_milk = milk[milk[\"Name\"].str.contains(pattern)]\n",
    "lowfat_milk.to_csv('./data/lowfatmilks.csv')\n"
   ]
  },
  {
   "cell_type": "code",
   "execution_count": null,
   "id": "ccd0cf89-5274-4cdc-bf92-acd81915d245",
   "metadata": {},
   "outputs": [],
   "source": []
  }
 ],
 "metadata": {
  "kernelspec": {
   "display_name": "Python 3 (ipykernel)",
   "language": "python",
   "name": "python3"
  },
  "language_info": {
   "codemirror_mode": {
    "name": "ipython",
    "version": 3
   },
   "file_extension": ".py",
   "mimetype": "text/x-python",
   "name": "python",
   "nbconvert_exporter": "python",
   "pygments_lexer": "ipython3",
   "version": "3.10.9"
  }
 },
 "nbformat": 4,
 "nbformat_minor": 5
}
